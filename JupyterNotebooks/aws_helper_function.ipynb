{
 "cells": [
  {
   "cell_type": "code",
   "execution_count": 1,
   "metadata": {},
   "outputs": [],
   "source": [
    "import boto3\n",
    "import configparser"
   ]
  },
  {
   "cell_type": "code",
   "execution_count": 2,
   "metadata": {},
   "outputs": [],
   "source": [
    "def create_session():\n",
    "    '''\n",
    "    RETURNS:\n",
    "        boto3 session used for creating clients. Defaults to AdminUser IAM user and correspondong credentials along with us-west-2 region.\n",
    "    '''\n",
    "    # Parser to get config credentials and other private information\n",
    "    parser = configparser.ConfigParser()\n",
    "    parser.read_file(open('../credentials.config'))\n",
    "    # AWS credentials\n",
    "    key = parser.get('AWS', 'aws_access_key')\n",
    "    secret = parser.get('AWS', 'aws_secret_key')\n",
    "    aws_region = parser.get('AWS', 'region')\n",
    "\n",
    "    # Instantiate boto3 s3 API client\n",
    "    session = boto3.Session(\n",
    "        aws_access_key_id=key,\n",
    "        aws_secret_access_key=secret,\n",
    "        region_name=aws_region\n",
    "    )\n",
    "    return session"
   ]
  },
  {
   "cell_type": "code",
   "execution_count": 3,
   "metadata": {},
   "outputs": [],
   "source": [
    "session = create_session()"
   ]
  },
  {
   "cell_type": "code",
   "execution_count": 4,
   "metadata": {},
   "outputs": [],
   "source": [
    "s3 = session.client('s3')"
   ]
  },
  {
   "cell_type": "code",
   "execution_count": 5,
   "metadata": {},
   "outputs": [],
   "source": [
    "import json\n",
    "test = {'yes': 1}\n",
    "\n",
    "test2 = json.dumps(test)"
   ]
  },
  {
   "cell_type": "code",
   "execution_count": 6,
   "metadata": {},
   "outputs": [
    {
     "data": {
      "text/plain": [
       "'{\"yes\": 1}'"
      ]
     },
     "execution_count": 6,
     "metadata": {},
     "output_type": "execute_result"
    }
   ],
   "source": [
    "test2"
   ]
  },
  {
   "cell_type": "code",
   "execution_count": 10,
   "metadata": {},
   "outputs": [],
   "source": [
    "parser = configparser.ConfigParser()\n",
    "parser.read_file(open('../credentials.config'))"
   ]
  },
  {
   "cell_type": "code",
   "execution_count": 11,
   "metadata": {},
   "outputs": [
    {
     "data": {
      "text/plain": [
       "'kc-glassdoor-data'"
      ]
     },
     "execution_count": 11,
     "metadata": {},
     "output_type": "execute_result"
    }
   ],
   "source": [
    "parser.get('AWS', 'bucket_name')"
   ]
  },
  {
   "cell_type": "code",
   "execution_count": 13,
   "metadata": {},
   "outputs": [],
   "source": [
    "import datetime\n",
    "test_name = datetime.datetime.now().strftime('%Y%m%d-%H%M%S')"
   ]
  },
  {
   "cell_type": "code",
   "execution_count": 14,
   "metadata": {},
   "outputs": [
    {
     "data": {
      "text/plain": [
       "'20230703-192936'"
      ]
     },
     "execution_count": 14,
     "metadata": {},
     "output_type": "execute_result"
    }
   ],
   "source": [
    "test_name"
   ]
  },
  {
   "cell_type": "code",
   "execution_count": 12,
   "metadata": {},
   "outputs": [
    {
     "data": {
      "text/plain": [
       "{'ResponseMetadata': {'RequestId': 'Q47Z970S38HKQQ6K',\n",
       "  'HostId': '6UNcbfmj/HzLWhBBIynDJDHpa+U+Tf5F9TqWY2mJB6zHhQvaX/L8hKnMtYLm9unaI1ZblhczJqM=',\n",
       "  'HTTPStatusCode': 200,\n",
       "  'HTTPHeaders': {'x-amz-id-2': '6UNcbfmj/HzLWhBBIynDJDHpa+U+Tf5F9TqWY2mJB6zHhQvaX/L8hKnMtYLm9unaI1ZblhczJqM=',\n",
       "   'x-amz-request-id': 'Q47Z970S38HKQQ6K',\n",
       "   'date': 'Tue, 04 Jul 2023 02:28:42 GMT',\n",
       "   'x-amz-server-side-encryption': 'AES256',\n",
       "   'etag': '\"0aba1a60a558587626b3e9eab706932e\"',\n",
       "   'server': 'AmazonS3',\n",
       "   'content-length': '0'},\n",
       "  'RetryAttempts': 0},\n",
       " 'ETag': '\"0aba1a60a558587626b3e9eab706932e\"',\n",
       " 'ServerSideEncryption': 'AES256'}"
      ]
     },
     "execution_count": 12,
     "metadata": {},
     "output_type": "execute_result"
    }
   ],
   "source": [
    "s3.put_object(\n",
    "    Bucket=parser.get('AWS', 'bucket_name'),\n",
    "    Key=f'{test_name}-test_json',\n",
    "    Body=test2\n",
    ")"
   ]
  }
 ],
 "metadata": {
  "kernelspec": {
   "display_name": "base",
   "language": "python",
   "name": "python3"
  },
  "language_info": {
   "codemirror_mode": {
    "name": "ipython",
    "version": 3
   },
   "file_extension": ".py",
   "mimetype": "text/x-python",
   "name": "python",
   "nbconvert_exporter": "python",
   "pygments_lexer": "ipython3",
   "version": "3.9.7"
  },
  "orig_nbformat": 4
 },
 "nbformat": 4,
 "nbformat_minor": 2
}
