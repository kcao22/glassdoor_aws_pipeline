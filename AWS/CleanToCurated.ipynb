{
	"cells": [
		{
			"cell_type": "markdown",
			"metadata": {
				"editable": true,
				"trusted": true
			},
			"source": [
				"# AWS Glue Studio Notebook\n",
				"##### You are now running a AWS Glue Studio notebook; To start using your notebook you need to start an AWS Glue Interactive Session.\n"
			]
		},
		{
			"cell_type": "markdown",
			"metadata": {
				"editable": true,
				"trusted": true
			},
			"source": [
				"#### Optional: Run this cell to see available notebook commands (\"magics\").\n"
			]
		},
		{
			"cell_type": "code",
			"execution_count": null,
			"metadata": {
				"editable": true,
				"trusted": true,
				"vscode": {
					"languageId": "python_glue_session"
				}
			},
			"outputs": [],
			"source": [
				"%help"
			]
		},
		{
			"cell_type": "markdown",
			"metadata": {
				"editable": true,
				"trusted": true
			},
			"source": [
				"####  Run this cell to set up and start your interactive session.\n"
			]
		},
		{
			"cell_type": "code",
			"execution_count": null,
			"metadata": {
				"editable": true,
				"trusted": true,
				"vscode": {
					"languageId": "python_glue_session"
				}
			},
			"outputs": [],
			"source": [
				"%idle_timeout 2880\n",
				"%glue_version 3.0\n",
				"%worker_type G.1X\n",
				"%number_of_workers 5\n",
				"\n",
				"import sys\n",
				"from awsglue.transforms import *\n",
				"from awsglue.utils import getResolvedOptions\n",
				"from pyspark.context import SparkContext\n",
				"from awsglue.context import GlueContext\n",
				"from awsglue.job import Job\n",
				"  \n",
				"sc = SparkContext.getOrCreate()\n",
				"glueContext = GlueContext(sc)\n",
				"spark = glueContext.spark_session\n",
				"job = Job(glueContext)"
			]
		},
		{
			"cell_type": "code",
			"execution_count": 2,
			"metadata": {
				"trusted": true,
				"vscode": {
					"languageId": "python_glue_session"
				}
			},
			"outputs": [
				{
					"name": "stdout",
					"output_type": "stream",
					"text": [
						"\n"
					]
				}
			],
			"source": [
				"import datetime\n",
				"import pyspark.sql.functions as F\n",
				"import pytz\n",
				"from awsglue.dynamicframe import DynamicFrame"
			]
		},
		{
			"cell_type": "code",
			"execution_count": 5,
			"metadata": {
				"trusted": true,
				"vscode": {
					"languageId": "python_glue_session"
				}
			},
			"outputs": [
				{
					"name": "stdout",
					"output_type": "stream",
					"text": [
						"\n"
					]
				}
			],
			"source": [
				"date_format='%m/%d/%Y'\n",
				"date = datetime.datetime.now(tz=pytz.utc)\n",
				"date = date.astimezone(pytz.timezone('US/Pacific'))\n",
				"today = date.strftime('%Y%m%d')"
			]
		},
		{
			"cell_type": "code",
			"execution_count": 27,
			"metadata": {
				"trusted": true,
				"vscode": {
					"languageId": "python_glue_session"
				}
			},
			"outputs": [
				{
					"name": "stdout",
					"output_type": "stream",
					"text": [
						"\n"
					]
				}
			],
			"source": [
				"df = glueContext.create_dynamic_frame.from_catalog(\n",
				"    database='glassdoorcleaned',\n",
				"    table_name=f'clean_{today}'\n",
				").toDF()\n",
				"\n",
				"# df = glueContext.create_dynamic_frame.from_catalog(\n",
				"#     database='glassdoorcleaned',\n",
				"#     table_name=f'clean_20230704'\n",
				"# ).toDF()"
			]
		},
		{
			"cell_type": "code",
			"execution_count": 28,
			"metadata": {
				"trusted": true,
				"vscode": {
					"languageId": "python_glue_session"
				}
			},
			"outputs": [
				{
					"name": "stdout",
					"output_type": "stream",
					"text": [
						"\n"
					]
				}
			],
			"source": [
				"# Job Location\n",
				"df = df.withColumn('jobcity', \n",
				"                   F.when(\n",
				"                        F.col('joblocation') == 'Remote', 'Remote'\n",
				"                        )\n",
				"                        .otherwise(\n",
				"                            F.split(F.col('joblocation'), pattern=',')[0]\n",
				"                        )\n",
				"                    ) \\\n",
				"        .withColumn('jobcity',\n",
				"                    F.trim(F.col('jobcity'))\n",
				"                    ) \\\n",
				"        .withColumn('jobstate', \n",
				"                    F.when(\n",
				"                        F.col('joblocation') == 'Remote', 'Remote'\n",
				"                        ).\n",
				"                        otherwise(\n",
				"                            F.element_at(F.split(F.col('joblocation'), pattern=','), -1)\n",
				"                            )\n",
				"                    ) \\\n",
				"        .withColumn('jobstate',\n",
				"                    F.trim(F.col('jobstate'))\n",
				"                    )"
			]
		},
		{
			"cell_type": "code",
			"execution_count": 29,
			"metadata": {
				"trusted": true,
				"vscode": {
					"languageId": "python_glue_session"
				}
			},
			"outputs": [
				{
					"name": "stdout",
					"output_type": "stream",
					"text": [
						"\n"
					]
				}
			],
			"source": [
				"# Company Type and Company Name\n",
				"df = df.withColumn('companytype', \n",
				"                    F.when(\n",
				"                        F.col('companytype')=='Other', F.col('companytype')\n",
				"                        )\n",
				"                        .otherwise(\n",
				"                            F.element_at(F.split(F.col('companytype'), pattern=' - '), -1)\n",
				"                            )\n",
				"                    ) \\\n",
				"                    .withColumn('companytype',\n",
				"                        F.trim(F.col('companytype'))\n",
				"                    ) \\\n",
				"        .withColumn('companyname', \n",
				"                    F.split(\n",
				"                        F.col('companyname'), pattern='\\n'\n",
				"                        )[0]\n",
				"                    ) \\\n",
				"        .withColumn('companyname',\n",
				"                    F.trim(F.col('companyname'))\n",
				"                    )"
			]
		},
		{
			"cell_type": "code",
			"execution_count": 30,
			"metadata": {
				"trusted": true,
				"vscode": {
					"languageId": "python_glue_session"
				}
			},
			"outputs": [
				{
					"name": "stdout",
					"output_type": "stream",
					"text": [
						"\n"
					]
				}
			],
			"source": [
				"# Salary\n",
				"df = df.withColumn('jobsalary', \n",
				"                    F.regexp_replace(\n",
				"                        F.col('jobsalary'), 'Employer Provided Salary:', '')\n",
				"                    ) \\\n",
				"        .withColumn('jobsalary', \n",
				"                    F.regexp_replace(\n",
				"                        F.col('jobsalary'), ' \\(Glassdoor est.\\)', '')\n",
				"                    ) \\\n",
				"        .withColumn('jobsalary',\n",
				"                    F.when(\n",
				"                        F.col('jobsalary').contains('Hour'), \n",
				"                        F.split(F.col('jobsalary'), pattern=' Per Hour')[0]\n",
				"                        ).otherwise(\n",
				"                            F.col('jobsalary')    \n",
				"                        )\n",
				"                    ) \\\n",
				"        .withColumn('jobsalary',\n",
				"                    F.regexp_replace(F.col('jobsalary'), '\\$', '')\n",
				"                ) \\\n",
				"        .withColumn('minsalary',\n",
				"                    F.split(\n",
				"                        F.col('jobsalary'), pattern=' - '\n",
				"                        )[0]\n",
				"                    ) \\\n",
				"        .withColumn('minsalary',\n",
				"                    F.trim(F.col('minsalary'))\n",
				"                    ) \\\n",
				"        .withColumn('maxsalary',\n",
				"                    F.element_at(F.split(\n",
				"                        F.col('jobsalary'), pattern=' - '\n",
				"                        ), -1)\n",
				"                    ) \\\n",
				"        .withColumn('maxsalary',\n",
				"                    F.trim(F.col('maxsalary'))\n",
				"                    ) \\\n",
				"        .withColumn('minsalary',\n",
				"            F.when(\n",
				"                F.col('minsalary').endswith('K'), \n",
				"                F.regexp_replace(F.col('minsalary'), 'K', '000')\n",
				"                ).otherwise(\n",
				"                    F.col('minsalary') * 2080\n",
				"                )\n",
				"            ) \\\n",
				"        .withColumn('maxsalary',\n",
				"                    F.when(\n",
				"                        F.col('maxsalary').endswith('K'), \n",
				"                        F.regexp_replace(F.col('maxsalary'), 'K', '000')\n",
				"                        ).otherwise(\n",
				"                            F.col('maxsalary') * 2080\n",
				"                        )\n",
				"                    ) \\\n",
				"        .withColumn('averagesalary',\n",
				"            (F.col('minsalary') + F.col('maxsalary')) / 2\n",
				"        )"
			]
		},
		{
			"cell_type": "code",
			"execution_count": 31,
			"metadata": {
				"trusted": true,
				"vscode": {
					"languageId": "python_glue_session"
				}
			},
			"outputs": [
				{
					"name": "stdout",
					"output_type": "stream",
					"text": [
						"\n"
					]
				}
			],
			"source": [
				"# Company Age\n",
				"df = df.withColumn('companyage', \n",
				"                   datetime.datetime.now().year - F.col('companyyearfounded')\n",
				"                   ) \\\n",
				"        .withColumn('companyage',\n",
				"                   F.trim(F.col('companyage'))\n",
				"                   )"
			]
		},
		{
			"cell_type": "code",
			"execution_count": 32,
			"metadata": {
				"trusted": true,
				"vscode": {
					"languageId": "python_glue_session"
				}
			},
			"outputs": [
				{
					"name": "stdout",
					"output_type": "stream",
					"text": [
						"\n"
					]
				}
			],
			"source": [
				"# Education levels\n",
				"phds = {'phd','doctorate', 'postdoc'}\n",
				"masters  = {'msc', 'master'}\n",
				"undergraduate = {'bachelors', 'undergraduate', 'associates'}\n",
				"\n",
				"df = df.withColumn('educationlevel',\n",
				"                    F.when(\n",
				"                            F.lower(F.col('jobdescription')).rlike('|'.join(phds)),\n",
				"                            'PhD or higher'\n",
				"                        ).otherwise(\n",
				"                            F.when(\n",
				"                                F.lower(F.col('jobdescription')).rlike('|'.join(masters)),\n",
				"                                'Masters'\n",
				"                            ).otherwise(\n",
				"                                F.when(\n",
				"                                    F.lower(F.col('jobdescription')).rlike('|'.join(undergraduate)),\n",
				"                                    'Undergraduate'\n",
				"                                ).otherwise(\n",
				"                                    'Other / Unknown'\n",
				"                                )\n",
				"                            )\n",
				"                        )\n",
				"                    )"
			]
		},
		{
			"cell_type": "code",
			"execution_count": 33,
			"metadata": {
				"trusted": true,
				"vscode": {
					"languageId": "python_glue_session"
				}
			},
			"outputs": [
				{
					"name": "stdout",
					"output_type": "stream",
					"text": [
						"\n"
					]
				}
			],
			"source": [
				"# Create columns for skills demanded by job\n",
				"masterlist = {'python', 'sql', 'scala', 'aws', 'gcp', 'azure', 'stream', 'batch', 'java', 'spark','dbt', 'airflow'}\n",
				"\n",
				"for skill in masterlist:\n",
				"    df = df.withColumn(skill,\n",
				"                  F.when(\n",
				"                      F.lower(F.col('jobdescription')).rlike(skill),\n",
				"                      1\n",
				"                    ).otherwise(\n",
				"                          0\n",
				"                    )\n",
				"                )"
			]
		},
		{
			"cell_type": "code",
			"execution_count": 34,
			"metadata": {
				"trusted": true,
				"vscode": {
					"languageId": "python_glue_session"
				}
			},
			"outputs": [
				{
					"name": "stdout",
					"output_type": "stream",
					"text": [
						"\n"
					]
				}
			],
			"source": [
				"# Job Seniority\n",
				"experienced = {'lead', 'principal', 'senior', 'sr', 'iv', 'manage'}\n",
				"mid = {'mid', 'ii', 'iii'}\n",
				"entry = {'entry', 'associate', 'assc', 'i', 'junior', 'jr'}\n",
				"df = df.withColumn('experiencelevel',\n",
				"                   F.when(\n",
				"                       F.lower(F.col('jobtitle')).rlike('|'.join(experienced)),\n",
				"                       'Senior'\n",
				"                   ).otherwise(\n",
				"                       F.when(\n",
				"                           F.lower(F.col('jobtitle')).rlike('|'.join(mid)),\n",
				"                           'Mid'\n",
				"                   ).otherwise(\n",
				"                       F.when(\n",
				"                           F.lower(F.col('jobtitle')).rlike('|'.join(entry)),\n",
				"                           'Entry'\n",
				"                        ).otherwise(\n",
				"                            'Other / Unknown'\n",
				"                        )\n",
				"                    )\n",
				"                )\n",
				"            )"
			]
		},
		{
			"cell_type": "code",
			"execution_count": 35,
			"metadata": {
				"trusted": true,
				"vscode": {
					"languageId": "python_glue_session"
				}
			},
			"outputs": [
				{
					"name": "stdout",
					"output_type": "stream",
					"text": [
						"\n"
					]
				}
			],
			"source": [
				"# Select cols\n",
				"df_transformed = df.select(\n",
				"    'date',\n",
				"    'companyname',\n",
				"    'companyrating',\n",
				"    'companyrevenue',\n",
				"    'companysector',\n",
				"    'companyindustry',\n",
				"    'companysize',\n",
				"    'companytype',\n",
				"    'companyyearfounded',\n",
				"    'easyapply',\n",
				"    'jobcity',\n",
				"    'jobstate',\n",
				"    'minsalary',\n",
				"    'maxsalary',\n",
				"    'averagesalary',\n",
				"    'companyage',\n",
				"    'educationlevel',\n",
				"    'stream',\n",
				"    'sql',\n",
				"    'gcp',\n",
				"    'scala',\n",
				"    'dbt',\n",
				"    'java',\n",
				"    'azure',\n",
				"    'aws',\n",
				"    'batch',\n",
				"    'spark',\n",
				"    'python',\n",
				"    'airflow',\n",
				"    'experiencelevel'\n",
				")"
			]
		},
		{
			"cell_type": "code",
			"execution_count": 36,
			"metadata": {
				"trusted": true,
				"vscode": {
					"languageId": "python_glue_session"
				}
			},
			"outputs": [
				{
					"name": "stdout",
					"output_type": "stream",
					"text": [
						"\n"
					]
				}
			],
			"source": [
				"# Read dimensional tables in.\n",
				"dimCities = glueContext.create_dynamic_frame.from_catalog(\n",
				"    database='glassdoorcurated',\n",
				"    table_name='curated_dimcities'\n",
				").toDF()\n",
				"\n",
				"dimStates = glueContext.create_dynamic_frame.from_catalog(\n",
				"    database='glassdoorcurated',\n",
				"    table_name='curated_dimstates'\n",
				").toDF()\n",
				"\n",
				"dimSize = glueContext.create_dynamic_frame.from_catalog(\n",
				"    database='glassdoorcurated',\n",
				"    table_name='curated_dimsize'\n",
				").toDF()\n",
				"\n",
				"dimSector = glueContext.create_dynamic_frame.from_catalog(\n",
				"    database='glassdoorcurated',\n",
				"    table_name='curated_dimsector'\n",
				").toDF()\n",
				"\n",
				"dimIndustry = glueContext.create_dynamic_frame.from_catalog(\n",
				"    database='glassdoorcurated',\n",
				"    table_name='curated_dimindustry'\n",
				").toDF()\n",
				"\n",
				"dimRevenue = glueContext.create_dynamic_frame.from_catalog(\n",
				"    database='glassdoorcurated',\n",
				"    table_name='curated_dimrevenue'\n",
				").toDF()\n",
				"\n",
				"dimType = glueContext.create_dynamic_frame.from_catalog(\n",
				"    database='glassdoorcurated',\n",
				"    table_name='curated_dimtype'\n",
				").toDF()\n",
				"\n",
				"dimEducation = glueContext.create_dynamic_frame.from_catalog(\n",
				"    database='glassdoorcurated',\n",
				"    table_name='curated_dimeducation'\n",
				").toDF()\n",
				"\n",
				"dimExperience = glueContext.create_dynamic_frame.from_catalog(\n",
				"    database='glassdoorcurated',\n",
				"    table_name='curated_dimexperience'\n",
				").toDF()"
			]
		},
		{
			"cell_type": "code",
			"execution_count": 37,
			"metadata": {
				"trusted": true,
				"vscode": {
					"languageId": "python_glue_session"
				}
			},
			"outputs": [
				{
					"name": "stdout",
					"output_type": "stream",
					"text": [
						"\n"
					]
				}
			],
			"source": [
				"# Get list of valid values for categorical cols containing nulls\n",
				"cities = {val[0] for val in dimCities.select('cityname').distinct().collect()}\n",
				"states = {val[0] for val in dimStates.select('stateabbrev').distinct().collect()}\n",
				"sizes = {val[0] for val in dimSize.select('size').distinct().collect()}\n",
				"sectors = {val[0] for val in dimSector.select('sector').distinct().collect()}\n",
				"industries = {val[0] for val in dimIndustry.select('industry').distinct().collect()} \n",
				"revenues = {val[0] for val in dimRevenue.select('revenue').distinct().collect()}\n",
				"types = {val[0] for val in dimType.select('type').distinct().collect()}\n",
				"\n",
				"# Apply valid categorical values check, fill nulls with Other / Unknown if necessary \n",
				"validvalueshashmap = {\n",
				"    'jobcity': cities,\n",
				"    'jobstate': states,\n",
				"    'companytype': types,\n",
				"    'companyrevenue': revenues,\n",
				"    'companysector': sectors,\n",
				"    'companysize': sizes,\n",
				"    'companytype': types,\n",
				"    'companyindustry': industries\n",
				"}\n",
				"for col in validvalueshashmap:\n",
				"    df_transformed = df_transformed.withColumn(col,\n",
				"                    F.when(\n",
				"                        F.col(col).isin(validvalueshashmap[col]),\n",
				"                        F.col(col)\n",
				"                        ).otherwise(\n",
				"                                'Other / Unknown'\n",
				"                            )\n",
				"                    )\n",
				"\n",
				"# Fill company name nulls\n",
				"df_transformed = df_transformed.fillna('Other / Unknown', subset=['companyname'])\n",
				"\n",
				"# # Change date col to date type\n",
				"# df_transformed = df_transformed.withColumn('date', \n",
				"#                                            F.date_format(\n",
				"#                                                F.expr('to_date(date, \"MM-dd-yyyy\")'),\n",
				"#                                                \"MM-dd-yyyy\"\n",
				"#                                                 )\n",
				"#                                             )"
			]
		},
		{
			"cell_type": "code",
			"execution_count": 38,
			"metadata": {
				"trusted": true,
				"vscode": {
					"languageId": "python_glue_session"
				}
			},
			"outputs": [
				{
					"name": "stdout",
					"output_type": "stream",
					"text": [
						"\n"
					]
				}
			],
			"source": [
				"# Convert model to STAR schema\n",
				"cols = [\n",
				"        'date',\n",
				"        'companyname', \n",
				"        'companyrating', \n",
				"        'revenuekey', \n",
				"        'sectorkey',\n",
				"        'industrykey', \n",
				"        'sizekey', \n",
				"        'typekey', \n",
				"        'companyyearfounded', \n",
				"        'easyapply', \n",
				"        'citykey', \n",
				"        'statekey', \n",
				"        'minsalary', \n",
				"        'maxsalary', \n",
				"        'averagesalary',\n",
				"        'companyage', \n",
				"        'educationkey', \n",
				"        'stream', \n",
				"        'sql', \n",
				"        'gcp', \n",
				"        'scala', \n",
				"        'dbt', \n",
				"        'java', \n",
				"        'azure', \n",
				"        'aws', \n",
				"        'batch', \n",
				"        'spark', \n",
				"        'python', \n",
				"        'airflow',\n",
				"        'experiencekey'\n",
				"    ]\n",
				"df_fact = df_transformed \\\n",
				"    .join(F.broadcast(dimCities), df_transformed.jobcity==dimCities.cityname, 'left') \\\n",
				"    .join(F.broadcast(dimStates), df_transformed.jobstate==dimStates.stateabbrev, 'left') \\\n",
				"    .join(F.broadcast(dimSize), df_transformed.companysize==dimSize.size, 'left') \\\n",
				"    .join(F.broadcast(dimSector), df_transformed.companysector==dimSector.sector, 'left') \\\n",
				"    .join(F.broadcast(dimIndustry), df_transformed.companyindustry==dimIndustry.industry, 'left') \\\n",
				"    .join(F.broadcast(dimRevenue), df_transformed.companyrevenue==dimRevenue.revenue, 'left') \\\n",
				"    .join(F.broadcast(dimType), df_transformed.companytype==dimType.type, 'left') \\\n",
				"    .join(F.broadcast(dimEducation), df_transformed.educationlevel==dimEducation.education, 'left') \\\n",
				"    .join(F.broadcast(dimExperience), df_transformed.experiencelevel==dimExperience.experience, 'left') \\\n",
				"    .select(cols)"
			]
		},
		{
			"cell_type": "code",
			"execution_count": 39,
			"metadata": {
				"trusted": true,
				"vscode": {
					"languageId": "python_glue_session"
				}
			},
			"outputs": [
				{
					"name": "stdout",
					"output_type": "stream",
					"text": [
						"\n"
					]
				}
			],
			"source": [
				"# Convert spark dataframe to glue dynamicframe\n",
				"dyf_fact = DynamicFrame.fromDF(\n",
				"    df_fact,\n",
				"    glueContext,\n",
				"    'convert'\n",
				")"
			]
		},
		{
			"cell_type": "code",
			"execution_count": 41,
			"metadata": {
				"trusted": true,
				"vscode": {
					"languageId": "python_glue_session"
				}
			},
			"outputs": [
				{
					"name": "stdout",
					"output_type": "stream",
					"text": [
						"\n"
					]
				}
			],
			"source": [
				"# Change types, apply mapping\n",
				"mapping = [\n",
				"    ('date', 'string', 'date', 'string'),\n",
				"    ('companyname', 'string', 'companyname', 'string'),\n",
				"    ('companyrating', 'double', 'companyrating', 'double'),\n",
				"    ('revenuekey', 'long', 'revenuekey', 'int'),\n",
				"    ('sectorkey', 'long', 'sectorkey', 'int'),\n",
				"    ('industrykey', 'long', 'industrykey', 'int'),\n",
				"    ('sizekey', 'long', 'sizekey', 'int'),\n",
				"    ('typekey', 'long', 'typekey', 'int'),\n",
				"    ('companyyearfounded', 'string', 'companyyearfounded', 'int'),\n",
				"    ('easyapply', 'string', 'easyapply', 'string'),\n",
				"    ('citykey', 'long', 'citykey', 'int'),\n",
				"    ('statekey', 'long', 'statekey', 'int'),\n",
				"    ('minsalary', 'string', 'minsalary', 'double'),\n",
				"    ('maxsalary', 'string', 'maxsalary', 'double'),\n",
				"    ('averagesalary', 'double', 'averagesalary', 'double'),\n",
				"    ('companyage', 'string', 'companyage', 'int'),\n",
				"    ('educationkey', 'long', 'educationkey', 'int'),\n",
				"    ('stream', 'int', 'stream', 'int'),\n",
				"    ('sql', 'int', 'sql', 'int'),\n",
				"    ('gcp', 'int', 'gcp', 'int'),\n",
				"    ('scala', 'int', 'scala', 'int'),\n",
				"    ('dbt', 'int', 'dbt', 'int'),\n",
				"    ('java', 'int', 'java', 'int'),\n",
				"    ('azure', 'int', 'azure', 'int'),\n",
				"    ('aws', 'int', 'aws', 'int'),\n",
				"    ('batch', 'int', 'batch', 'int'),\n",
				"    ('spark', 'int', 'spark', 'int'),\n",
				"    ('python', 'int', 'python', 'int'),\n",
				"    ('airflow', 'int', 'airflow', 'int'),\n",
				"    ('experiencekey', 'long', 'experiencekey', 'int')\n",
				"]\n",
				"dyf_fact = ApplyMapping.apply(\n",
				"    frame=dyf_fact,\n",
				"    mappings=mapping,\n",
				"    transformation_ctx='dyfapplymapping'\n",
				")"
			]
		},
		{
			"cell_type": "code",
			"execution_count": 43,
			"metadata": {
				"trusted": true,
				"vscode": {
					"languageId": "python_glue_session"
				}
			},
			"outputs": [
				{
					"name": "stdout",
					"output_type": "stream",
					"text": [
						"<awsglue.dynamicframe.DynamicFrame object at 0x7f9d5a764490>\n"
					]
				}
			],
			"source": [
				"# Add curated data to S3 curated bucket and Glue Data Catalog\n",
				"\n",
				"s3output = glueContext.getSink(\n",
				"  path=f's3://kc-glassdoor-data-curated/curated/curated_{today}',\n",
				"  connection_type=\"s3\",\n",
				"  updateBehavior=\"UPDATE_IN_DATABASE\",\n",
				"  partitionKeys=[],\n",
				"  compression=\"snappy\",\n",
				"  enableUpdateCatalog=True,\n",
				"  transformation_ctx=\"s3output\",\n",
				")\n",
				"\n",
				"s3output.setCatalogInfo(\n",
				"  catalogDatabase=\"glassdoorcurated\", catalogTableName=f\"curated_{today}\"\n",
				")\n",
				"s3output.setFormat(\"glueparquet\")\n",
				"s3output.writeFrame(dyf_fact.coalesce(1))"
			]
		},
		{
			"cell_type": "code",
			"execution_count": null,
			"metadata": {
				"vscode": {
					"languageId": "python_glue_session"
				}
			},
			"outputs": [],
			"source": []
		}
	],
	"metadata": {
		"kernelspec": {
			"display_name": "Glue PySpark",
			"language": "python",
			"name": "glue_pyspark"
		},
		"language_info": {
			"codemirror_mode": {
				"name": "python",
				"version": 3
			},
			"file_extension": ".py",
			"mimetype": "text/x-python",
			"name": "Python_Glue_Session",
			"pygments_lexer": "python3"
		}
	},
	"nbformat": 4,
	"nbformat_minor": 4
}
